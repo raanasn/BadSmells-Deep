{
 "cells": [
  {
   "cell_type": "code",
   "execution_count": 7,
   "metadata": {
    "collapsed": false
   },
   "outputs": [],
   "source": [
    "import matplotlib.pyplot as plt\n",
    "import numpy as np\n",
    "import pandas as pd\n",
    "import keras\n",
    "import tensorflow as tf\n",
    "from output import *\n",
    "from sklearn.model_selection import StratifiedKFold\n",
    "from keras.models import Sequential,Model\n",
    "from keras.layers import Dense, Dropout,Input,Concatenate\n",
    "from sklearn import datasets, linear_model\n",
    "from sklearn.model_selection import KFold,cross_val_score\n",
    "from sklearn import preprocessing\n",
    "from keras.wrappers.scikit_learn import KerasRegressor\n",
    "from keras import regularizers\n",
    "from sklearn.preprocessing import PolynomialFeatures\n",
    "from pandas.tools.plotting import scatter_matrix\n",
    "from sklearn.feature_selection import SelectKBest, f_classif\n",
    "from keras.utils.np_utils import to_categorical"
   ]
  },
  {
   "cell_type": "code",
   "execution_count": 8,
   "metadata": {
    "collapsed": true
   },
   "outputs": [],
   "source": [
    "def create_model_functional():\n",
    "    coupling_input = Input(shape=(8,), dtype='float32', name='coupling_input')\n",
    "    x = Dense(64, activation='relu',activity_regularizer=regularizers.l2(0.01))(coupling_input)\n",
    "    x = Dense(32,activation='relu')(x)\n",
    "    x = Dense(16,activation='relu',activity_regularizer=regularizers.l2(0.01))(x)\n",
    "    cohesion_input = Input(shape=(2,), dtype='float32', name='cohesion_input')\n",
    "    x = keras.layers.concatenate([x, cohesion_input])\n",
    "    x_ = Dense(8,activation='relu',activity_regularizer=regularizers.l2(0.01))(x)\n",
    "    main_output=Dense(1,activation='sigmoid',name='output')(x)\n",
    "    badSmell_output=Dense(4,activation='softmax',name='badSmell')(x)\n",
    "    model = Model([coupling_input, cohesion_input], [main_output,badSmell_output])\n",
    "    model.compile(optimizer='sgd', loss='mean_squared_error',metrics=['acc'])\n",
    "    model.summary()\n",
    "    return model"
   ]
  },
  {
   "cell_type": "code",
   "execution_count": 9,
   "metadata": {
    "collapsed": true
   },
   "outputs": [],
   "source": [
    "def load_data():\n",
    "    x,y,z,y_badSmells=generate()\n",
    "    junit_in=x[:z[0]]\n",
    "    junit_out=y[:z[0]]\n",
    "    ganttproject_in=x[:z[1]]\n",
    "    ganttproject_out=y[:z[1]]\n",
    "    mockito_in=x[:z[2]]\n",
    "    mockito_out=y[:z[2]]\n",
    "    x_train_real=preprocessing.scale(np.array(x))\n",
    "    x_test_real=preprocessing.scale(np.array(ganttproject_in))\n",
    "    y_train_real=np.array(y)\n",
    "    y_test_real=np.array(ganttproject_out)\n",
    "    y_bs = to_categorical(y_badSmells)\t\t  \n",
    "    return x_train_real,y_train_real,y_bs"
   ]
  },
  {
   "cell_type": "code",
   "execution_count": 10,
   "metadata": {
    "collapsed": false
   },
   "outputs": [],
   "source": [
    "def train_and_evaluate__model(model, data_train, labels_train,labels2, data_test, labels_test,labels2_test):\n",
    "    dt1=data_train[:,:8]\n",
    "    dt2=data_train[:,8:]\n",
    "    history=model.fit([dt1, dt2],[labels_train,labels2],nb_epoch=200, batch_size=10,verbose=0)\n",
    "    print(model.metrics_names)\n",
    "    print(model.evaluate([data_test[:,:8],data_test[:,8:]], [labels_test,labels2_test],batch_size=10))\n"
   ]
  },
  {
   "cell_type": "code",
   "execution_count": 11,
   "metadata": {
    "collapsed": false
   },
   "outputs": [
    {
     "name": "stderr",
     "output_type": "stream",
     "text": [
      "/home/ran/.local/lib/python3.5/site-packages/sklearn/utils/validation.py:595: DataConversionWarning: Data with input dtype <U32 was converted to float64 by the scale function.\n",
      "  warnings.warn(msg, DataConversionWarning)\n",
      "/home/ran/.local/lib/python3.5/site-packages/sklearn/utils/validation.py:595: DataConversionWarning: Data with input dtype <U32 was converted to float64 by the scale function.\n",
      "  warnings.warn(msg, DataConversionWarning)\n",
      "WARNING: Logging before flag parsing goes to stderr.\n",
      "W0718 21:59:38.149072 140390829819648 deprecation_wrapper.py:119] From /usr/local/lib/python3.5/dist-packages/keras/backend/tensorflow_backend.py:517: The name tf.placeholder is deprecated. Please use tf.compat.v1.placeholder instead.\n",
      "\n",
      "W0718 21:59:38.168644 140390829819648 deprecation_wrapper.py:119] From /usr/local/lib/python3.5/dist-packages/keras/backend/tensorflow_backend.py:74: The name tf.get_default_graph is deprecated. Please use tf.compat.v1.get_default_graph instead.\n",
      "\n",
      "W0718 21:59:38.170380 140390829819648 deprecation_wrapper.py:119] From /usr/local/lib/python3.5/dist-packages/keras/backend/tensorflow_backend.py:4138: The name tf.random_uniform is deprecated. Please use tf.random.uniform instead.\n",
      "\n",
      "W0718 21:59:38.265722 140390829819648 deprecation_wrapper.py:119] From /usr/local/lib/python3.5/dist-packages/keras/optimizers.py:790: The name tf.train.Optimizer is deprecated. Please use tf.compat.v1.train.Optimizer instead.\n",
      "\n",
      "/home/ran/.local/lib/python3.5/site-packages/ipykernel_launcher.py:4: UserWarning: The `nb_epoch` argument in `fit` has been renamed `epochs`.\n",
      "  after removing the cwd from sys.path.\n"
     ]
    },
    {
     "name": "stdout",
     "output_type": "stream",
     "text": [
      "__________________________________________________________________________________________________\n",
      "Layer (type)                    Output Shape         Param #     Connected to                     \n",
      "==================================================================================================\n",
      "coupling_input (InputLayer)     (None, 8)            0                                            \n",
      "__________________________________________________________________________________________________\n",
      "dense_1 (Dense)                 (None, 64)           576         coupling_input[0][0]             \n",
      "__________________________________________________________________________________________________\n",
      "dense_2 (Dense)                 (None, 32)           2080        dense_1[0][0]                    \n",
      "__________________________________________________________________________________________________\n",
      "dense_3 (Dense)                 (None, 16)           528         dense_2[0][0]                    \n",
      "__________________________________________________________________________________________________\n",
      "cohesion_input (InputLayer)     (None, 2)            0                                            \n",
      "__________________________________________________________________________________________________\n",
      "concatenate_1 (Concatenate)     (None, 18)           0           dense_3[0][0]                    \n",
      "                                                                 cohesion_input[0][0]             \n",
      "__________________________________________________________________________________________________\n",
      "output (Dense)                  (None, 1)            19          concatenate_1[0][0]              \n",
      "__________________________________________________________________________________________________\n",
      "badSmell (Dense)                (None, 4)            76          concatenate_1[0][0]              \n",
      "==================================================================================================\n",
      "Total params: 3,279\n",
      "Trainable params: 3,279\n",
      "Non-trainable params: 0\n",
      "__________________________________________________________________________________________________\n"
     ]
    },
    {
     "name": "stderr",
     "output_type": "stream",
     "text": [
      "W0718 21:59:38.556254 140390829819648 deprecation_wrapper.py:119] From /usr/local/lib/python3.5/dist-packages/keras/backend/tensorflow_backend.py:986: The name tf.assign_add is deprecated. Please use tf.compat.v1.assign_add instead.\n",
      "\n",
      "W0718 21:59:38.607340 140390829819648 deprecation_wrapper.py:119] From /usr/local/lib/python3.5/dist-packages/keras/backend/tensorflow_backend.py:973: The name tf.assign is deprecated. Please use tf.compat.v1.assign instead.\n",
      "\n"
     ]
    },
    {
     "name": "stdout",
     "output_type": "stream",
     "text": [
      "['loss', 'output_loss', 'badSmell_loss', 'output_acc', 'badSmell_acc']\n",
      "619/619 [==============================] - 0s 118us/step\b\b\b\b\b\b\b\b\b\b\b\b\b\b\b\b\b\b\b\b\b\b\b\b\b\b\b\b\b\b\b\b\b\b\b\b\b\b\b\b\b\b\b\b\n",
      "[0.21300998096608575, 0.09184869636310586, 0.09250793390589886, 0.8820678454030889, 0.7883683317890074]\n"
     ]
    }
   ],
   "source": [
    "data, labels, badSmells = load_data()\n",
    "model = None # Clearing the NN.\n",
    "model = create_model_functional()\n",
    "train_and_evaluate__model(model, data[:1500], labels[:1500], badSmells[:1500],data[1500:], labels[1500:],badSmells[1500:])\n"
   ]
  }
 ],
 "metadata": {
  "kernelspec": {
   "display_name": "Python 3",
   "language": "python",
   "name": "python3"
  },
  "language_info": {
   "codemirror_mode": {
    "name": "ipython",
    "version": 3
   },
   "file_extension": ".py",
   "mimetype": "text/x-python",
   "name": "python",
   "nbconvert_exporter": "python",
   "pygments_lexer": "ipython3",
   "version": "3.5.2"
  }
 },
 "nbformat": 4,
 "nbformat_minor": 2
}
